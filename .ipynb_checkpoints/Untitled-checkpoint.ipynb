{
 "cells": [
  {
   "cell_type": "code",
   "execution_count": 4,
   "metadata": {},
   "outputs": [],
   "source": [
    "#Dependencies\n",
    "\n",
    "import pandas as pd\n",
    "import numpy as np\n",
    "import matplotlib.pyplot as plt\n",
    "import json\n",
    "import tweepy\n",
    "import time\n",
    "from datetime import datetime\n",
    "from config import consumer_key, consumer_secret, access_token, access_token_secret\n",
    "\n",
    "from vaderSentiment.vaderSentiment import SentimentIntensityAnalyzer\n",
    "analyzer = SentimentIntensityAnalyzer()\n",
    "\n",
    "plt.style.use('ggplot')"
   ]
  },
  {
   "cell_type": "code",
   "execution_count": 5,
   "metadata": {},
   "outputs": [],
   "source": [
    "# Set up Tweepy credentials\n",
    "\n",
    "# Twitter API Keys\n",
    "consumer_key = consumer_key\n",
    "consumer_secret = consumer_secret\n",
    "access_token = access_token\n",
    "access_token_secret = access_token_secret\n",
    "\n",
    "# Set up Tweepy API Authentication\n",
    "auth = tweepy.OAuthHandler(consumer_key, consumer_secret)\n",
    "auth.set_access_token(access_token, access_token_secret)\n",
    "api = tweepy.API(auth, parser=tweepy.parsers.JSONParser())"
   ]
  },
  {
   "cell_type": "code",
   "execution_count": 6,
   "metadata": {},
   "outputs": [
    {
     "name": "stdout",
     "output_type": "stream",
     "text": [
      "Twitter user @BBCWorld has been completed\n",
      "Twitter user @CBSNews has been completed\n",
      "Twitter user @CNN has been completed\n",
      "Twitter user @FoxNews has been completed\n",
      "Twitter user @nytimes has been completed\n"
     ]
    }
   ],
   "source": [
    "# Create list of twitter usernames desired for search\n",
    "news_usernames = [\"@BBCWorld\",\"@CBSNews\",\"@CNN\",\"@FoxNews\",\"@nytimes\"]\n",
    "\n",
    "# Create a list to store individual tweet's compound sentiment\n",
    "ind_sentiment_list = []\n",
    "\n",
    "# Create list to hold the final total average of all tweets in the twitter pulls\n",
    "avg_sentiment_list = []\n",
    "\n",
    "# Loop through each news agency\n",
    "for news in news_usernames:\n",
    "\n",
    "    # Create a set of lists to hold each of the sentiment values\n",
    "    compound_list = []\n",
    "    positive_list = []\n",
    "    negative_list = []\n",
    "    neutral_list = []\n",
    "    \n",
    "    # Loop through five pages to collect 100 tweets per specified user\n",
    "    for x in range(1,6):\n",
    "        \n",
    "        # Collect tweets from the specified page for the specified user\n",
    "        public_tweets = api.user_timeline(news, page=x)\n",
    "\n",
    "        # Loop through all tweets\n",
    "        for tweet in public_tweets:\n",
    "\n",
    "        \n",
    "                # Perform VADER analysis and store in variable\n",
    "                results = analyzer.polarity_scores(tweet[\"text\"])\n",
    "                compound = results[\"compound\"]\n",
    "                pos = results[\"pos\"]\n",
    "                neu = results[\"neu\"]\n",
    "                neg = results[\"neg\"]\n",
    "\n",
    "                # Add each value to the compound list so that it can be averaged\n",
    "                compound_list.append(compound)\n",
    "                positive_list.append(pos)\n",
    "                negative_list.append(neg)\n",
    "                neutral_list.append(neu)\n",
    "                \n",
    "                # Also create a dictionary for each individual tweet\n",
    "                temp_ind_dict = {\"User\": news,\\\n",
    "                                \"Compound\":compound,\\\n",
    "                                \"Positive\":pos,\\\n",
    "                                \"Neutral\":neu,\\\n",
    "                                \"Negative\":neg,\\\n",
    "                                \"Text\":tweet[\"text\"],\\\n",
    "                                \"Date Created\":tweet[\"created_at\"]\\\n",
    "                                }\n",
    "                \n",
    "                # Append the individual sentiment list to contain the tweet's information\n",
    "                ind_sentiment_list.append(temp_ind_dict)\n",
    "        \n",
    "        # Use time.sleep to prevent abusing API call\n",
    "        time.sleep(1)\n",
    "        \n",
    "# Once all tweets have been gathered for a user, average values gathered on all tweets and add to a dictionary\n",
    "    sentiment = {\n",
    "        \"User\": news,\n",
    "        \"Compound\": np.mean(compound_list),\n",
    "        \"Positive\": np.mean(positive_list),\n",
    "        \"Neutral\": np.mean(negative_list),\n",
    "        \"Negative\": np.mean(neutral_list),\n",
    "        \"Tweet Count\": len(compound_list)\n",
    "    }\n",
    "    \n",
    "    # Append the average sentiment data to the average sentiment list\n",
    "    avg_sentiment_list.append(sentiment)\n",
    "    \n",
    "    # Print confirmation message for each user\n",
    "    print(f\"Twitter user {news} has been completed\")\n"
   ]
  },
  {
   "cell_type": "code",
   "execution_count": null,
   "metadata": {},
   "outputs": [],
   "source": []
  },
  {
   "cell_type": "code",
   "execution_count": null,
   "metadata": {},
   "outputs": [],
   "source": []
  }
 ],
 "metadata": {
  "kernelspec": {
   "display_name": "Python [conda env:PythonData]",
   "language": "python",
   "name": "conda-env-PythonData-py"
  },
  "language_info": {
   "codemirror_mode": {
    "name": "ipython",
    "version": 3
   },
   "file_extension": ".py",
   "mimetype": "text/x-python",
   "name": "python",
   "nbconvert_exporter": "python",
   "pygments_lexer": "ipython3",
   "version": "3.6.5"
  }
 },
 "nbformat": 4,
 "nbformat_minor": 2
}
